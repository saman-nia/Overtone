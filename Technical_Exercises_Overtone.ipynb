{
  "nbformat": 4,
  "nbformat_minor": 0,
  "metadata": {
    "colab": {
      "provenance": [],
      "authorship_tag": "ABX9TyN3DK62YJFzE98O2/tKQh8r",
      "include_colab_link": true
    },
    "kernelspec": {
      "name": "python3",
      "display_name": "Python 3"
    },
    "language_info": {
      "name": "python"
    }
  },
  "cells": [
    {
      "cell_type": "markdown",
      "metadata": {
        "id": "view-in-github",
        "colab_type": "text"
      },
      "source": [
        "<a href=\"https://colab.research.google.com/github/saman-nia/Overtone/blob/main/Technical_Exercises_Overtone.ipynb\" target=\"_parent\"><img src=\"https://colab.research.google.com/assets/colab-badge.svg\" alt=\"Open In Colab\"/></a>"
      ]
    },
    {
      "cell_type": "markdown",
      "source": [
        "In the below script, I've defined the function **comparable** which accepts four parameters: a set of synonyms, two sentences and an additional parameter implies that is set to False by default. If implies is set to true, the function will solve the second task by using the while loop to replace words with synonyms found in the previous iteration, if not, the function will solve the first task by using the initial way of replacing."
      ],
      "metadata": {
        "id": "CRJfGBucuB58"
      }
    },
    {
      "cell_type": "code",
      "execution_count": 1,
      "metadata": {
        "id": "PVeBg4Onpm1i"
      },
      "outputs": [],
      "source": [
        "def comparable(synonyms, sentence_1, sentence_2, implies=False):\n",
        "    \n",
        "\n",
        "    \n",
        "    # Breaking down text into words, also known as word segmentation or word tokenization.\n",
        "    # For example, if we have the sentence \"She wants to eat food.\", tokenization would break \n",
        "    # it down into the following tokens: \"She\", \"wants\", \"to\", \"eat\", \"food\".\n",
        "    words_1 = sentence_1.split()\n",
        "    words_2 = sentence_2.split()\n",
        "\n",
        "\n",
        "    # Check that sentences have the same number of words.\n",
        "    if len(words_1) != len(words_2):\n",
        "        return \"No, the sentences do not have the same number of words.\"\n",
        "\n",
        "\n",
        "    # Case-insensitivity by converting sentences to lowercase which means that \n",
        "    # \"eat\" and \"Eat\" are treated as the same word. This can be useful when \n",
        "    # comparing words or counting word frequency.\n",
        "    words_1 = [word.lower() for word in words_1]\n",
        "    words_2 = [word.lower() for word in words_2]\n",
        "\n",
        "\n",
        "    if implies:\n",
        "        # Exercise 2:\n",
        "        # Check if each word in the first sentence has a corresponding synonym \n",
        "        # in the second sentence by replacing words with synonyms.\n",
        "        while True:\n",
        "            synonyms_check = False\n",
        "            for i in range(len(words_1)):\n",
        "                if words_1[i] in synonyms:\n",
        "                    synonyms_check = True\n",
        "                    words_1[i] = synonyms[words_1[i]]\n",
        "            for i in range(len(words_2)):\n",
        "                if words_2[i] in synonyms:\n",
        "                    synonyms_check = True\n",
        "                    words_2[i] = synonyms[words_2[i]]\n",
        "            if not synonyms_check:\n",
        "                break\n",
        "\n",
        "    else:\n",
        "        # Exercise 1:\n",
        "        # Replace words with synonyms\n",
        "        for i in range(len(words_1)):\n",
        "            if words_1[i] in synonyms:\n",
        "                words_1[i] = synonyms[words_1[i]]\n",
        "        for i in range(len(words_2)):\n",
        "            if words_2[i] in synonyms:\n",
        "                words_2[i] = synonyms[words_2[i]]\n",
        "\n",
        "    # Compare lists of words\n",
        "    if words_1 == words_2:\n",
        "      return \"Yes, the sentences are equal.\"\n",
        "    else:\n",
        "      return \"No, the sentences are NOT equal.\""
      ]
    },
    {
      "cell_type": "code",
      "source": [
        "# Test set 1\n",
        "synonyms = {\"eat\": \"consume\", \"easy\": \"simple\"}\n",
        "sentence_1 = \"She wants to eat food.\"\n",
        "sentence_2 = \"She wants to consume food.\"\n",
        "print(\"Exercise 1 result: \", comparable(synonyms, sentence_1, sentence_2))"
      ],
      "metadata": {
        "colab": {
          "base_uri": "https://localhost:8080/"
        },
        "id": "pIsj5cPUqBv7",
        "outputId": "0c5631d8-5332-4526-bb57-5ae0dbf754b6"
      },
      "execution_count": 2,
      "outputs": [
        {
          "output_type": "stream",
          "name": "stdout",
          "text": [
            "Exercise 1 result:  Yes, the sentences are equal.\n"
          ]
        }
      ]
    },
    {
      "cell_type": "code",
      "source": [
        "# Test set 2\n",
        "synonyms = {\"eat\": \"consume\", \"easy\": \"simple\"}\n",
        "sentence_1 = \"She wants to feed food.\"\n",
        "sentence_2 = \"She wants to order food.\"\n",
        "print(\"Exercise 1 result: \", comparable(synonyms, sentence_1, sentence_2))"
      ],
      "metadata": {
        "colab": {
          "base_uri": "https://localhost:8080/"
        },
        "id": "6rBsLs_cw491",
        "outputId": "594d2ca3-74a3-4975-f4e3-b688751fb75d"
      },
      "execution_count": 3,
      "outputs": [
        {
          "output_type": "stream",
          "name": "stdout",
          "text": [
            "Exercise 1 result:  No, the sentences are NOT equal.\n"
          ]
        }
      ]
    },
    {
      "cell_type": "code",
      "source": [
        "# Test set 3\n",
        "synonyms = {\"eat\": \"consume\", \"easy\": \"simple\", \"consume\": \"feed\"}\n",
        "sentence_1 = \"She wants to eat food.\"\n",
        "sentence_2 = \"She wants to feed food.\"\n",
        "print(\"Exercise 2 result: \", comparable(synonyms, sentence_1, sentence_2, implies=True))"
      ],
      "metadata": {
        "colab": {
          "base_uri": "https://localhost:8080/"
        },
        "id": "aHgKnyOQqCov",
        "outputId": "20d0c52f-2e9b-41b1-e0f0-ca45b9a408c1"
      },
      "execution_count": 4,
      "outputs": [
        {
          "output_type": "stream",
          "name": "stdout",
          "text": [
            "Exercise 2 result:  Yes, the sentences are equal.\n"
          ]
        }
      ]
    },
    {
      "cell_type": "code",
      "source": [
        "# Test set 4\n",
        "synonyms = {\"eat\": \"consume\", \"easy\": \"simple\", \"consume\": \"feed\"}\n",
        "sentence_1 = \"She wants to eat food in the restaurant.\"\n",
        "sentence_2 = \"She wants to consume food.\"\n",
        "print(\"Exercise 2 result: \", comparable(synonyms, sentence_1, sentence_2, implies=True))"
      ],
      "metadata": {
        "colab": {
          "base_uri": "https://localhost:8080/"
        },
        "id": "diNGCpZDjd31",
        "outputId": "92a568ae-4e71-406f-a759-95a734527707"
      },
      "execution_count": 5,
      "outputs": [
        {
          "output_type": "stream",
          "name": "stdout",
          "text": [
            "Exercise 2 result:  No, the sentences do not have the same number of words.\n"
          ]
        }
      ]
    },
    {
      "cell_type": "code",
      "source": [
        "# User input: you can insert any set after running the script\n",
        "synonyms = {}\n",
        "while True:\n",
        "    word1 = input(\"Enter the first word (or ':q' to quit): \")\n",
        "    if word1 == ':q':\n",
        "        break\n",
        "    word2 = input(\"Enter the second word: \")\n",
        "    synonyms[word1.strip().lower()] = word2.strip().lower()\n",
        "\n",
        "sentence_1 = input(\"Enter the first sentence: \")\n",
        "sentence_2 = input(\"Enter the second sentence: \")\n",
        "print(\"Exercise 1 result: \", comparable(synonyms, sentence_1, sentence_2))\n",
        "print(\"Exercise 2 result: \", comparable(synonyms, sentence_1, sentence_2, implies=True))"
      ],
      "metadata": {
        "id": "t8mwPvkrqCrf",
        "colab": {
          "base_uri": "https://localhost:8080/"
        },
        "outputId": "6dbd69f5-e88b-4ec5-ada2-78e45903c65d"
      },
      "execution_count": 6,
      "outputs": [
        {
          "output_type": "stream",
          "name": "stdout",
          "text": [
            "Enter the first word (or ':q' to quit): eat\n",
            "Enter the second word: consume\n",
            "Enter the first word (or ':q' to quit): easy\n",
            "Enter the second word: simple\n",
            "Enter the first word (or ':q' to quit): :q\n",
            "Enter the first sentence: She wants to eat food.\n",
            "Enter the second sentence: She wants to consume food.\n",
            "Exercise 1 result:  Yes, the sentences are equal.\n",
            "Exercise 2 result:  Yes, the sentences are equal.\n"
          ]
        }
      ]
    }
  ]
}